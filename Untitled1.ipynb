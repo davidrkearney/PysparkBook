{
 "cells": [
  {
   "cell_type": "code",
   "execution_count": 1,
   "metadata": {},
   "outputs": [
    {
     "name": "stdout",
     "output_type": "stream",
     "text": [
      "argon2-cffi==20.1.0\n",
      "async-generator==1.10\n",
      "attrs==20.3.0\n",
      "backcall==0.2.0\n",
      "bleach==3.2.1\n",
      "certifi==2020.12.5\n",
      "cffi==1.14.4\n",
      "chardet==3.0.4\n",
      "decorator==4.4.2\n",
      "defusedxml==0.6.0\n",
      "entrypoints==0.3\n",
      "idna==2.10\n",
      "importlib-metadata==3.1.1\n",
      "ipykernel==5.3.4\n",
      "ipython==7.19.0\n",
      "ipython-genutils==0.2.0\n",
      "jedi==0.17.2\n",
      "Jinja2==2.11.2\n",
      "json5==0.9.5\n",
      "jsonschema==3.2.0\n",
      "jupyter-client==6.1.7\n",
      "jupyter-core==4.7.0\n",
      "jupyterlab==2.2.9\n",
      "jupyterlab-pygments==0.1.2\n",
      "jupyterlab-server==1.2.0\n",
      "MarkupSafe==1.1.1\n",
      "mistune==0.8.4\n",
      "nbclient==0.5.1\n",
      "nbconvert==6.0.7\n",
      "nbformat==5.0.8\n",
      "nest-asyncio==1.4.3\n",
      "notebook==6.1.5\n",
      "packaging==20.7\n",
      "pandocfilters==1.4.3\n",
      "parso==0.7.1\n",
      "pexpect==4.8.0\n",
      "pickleshare==0.7.5\n",
      "prometheus-client==0.9.0\n",
      "prompt-toolkit==3.0.8\n",
      "ptyprocess==0.6.0\n",
      "pycparser==2.20\n",
      "Pygments==2.7.3\n",
      "pyparsing==2.4.7\n",
      "pyrsistent==0.17.3\n",
      "python-dateutil==2.8.1\n",
      "pyzmq==20.0.0\n",
      "requests==2.25.0\n",
      "Send2Trash==1.5.0\n",
      "six==1.15.0\n",
      "terminado==0.9.1\n",
      "testpath==0.4.4\n",
      "tornado==6.1\n",
      "traitlets==5.0.5\n",
      "urllib3==1.26.2\n",
      "wcwidth==0.2.5\n",
      "webencodings==0.5.1\n",
      "zipp==3.4.0\n"
     ]
    }
   ],
   "source": [
    "!pip freeze"
   ]
  }
 ],
 "metadata": {
  "kernelspec": {
   "display_name": "dask",
   "language": "python",
   "name": "dask"
  },
  "language_info": {
   "codemirror_mode": {
    "name": "ipython",
    "version": 3
   },
   "file_extension": ".py",
   "mimetype": "text/x-python",
   "name": "python",
   "nbconvert_exporter": "python",
   "pygments_lexer": "ipython3",
   "version": "3.7.4"
  }
 },
 "nbformat": 4,
 "nbformat_minor": 4
}
